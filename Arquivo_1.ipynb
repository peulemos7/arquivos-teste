{
  "nbformat": 4,
  "nbformat_minor": 0,
  "metadata": {
    "colab": {
      "provenance": [],
      "authorship_tag": "ABX9TyPWAg2YfV3w03GZ9bnqOf/y",
      "include_colab_link": true
    },
    "kernelspec": {
      "name": "python3",
      "display_name": "Python 3"
    },
    "language_info": {
      "name": "python"
    }
  },
  "cells": [
    {
      "cell_type": "markdown",
      "metadata": {
        "id": "view-in-github",
        "colab_type": "text"
      },
      "source": [
        "<a href=\"https://colab.research.google.com/github/peulemos7/arquivos-teste/blob/main/Arquivo_1.ipynb\" target=\"_parent\"><img src=\"https://colab.research.google.com/assets/colab-badge.svg\" alt=\"Open In Colab\"/></a>"
      ]
    },
    {
      "cell_type": "markdown",
      "source": [
        "# Titulo\n",
        "\n",
        "A partir do momento "
      ],
      "metadata": {
        "id": "_PbpzRgs3jSV"
      }
    },
    {
      "cell_type": "code",
      "source": [
        "\n",
        "#Alan, Jorge e Thiago são integrantes do grupo\n",
        "\n",
        "nome = input( 'Insira o nome do integrante: ')\n",
        "nome = nome.upper()\n",
        "print ('O nome que você quer analisar é: ', nome)\n",
        "\n",
        "if (nome == 'ALAN') | (nome == 'THIAGO') | (nome == 'JORGE'):\n",
        "  print(nome,'está no grupo')\n",
        "\n",
        "else:\n",
        "  print(nome,'não está no grupo')\n"
      ],
      "metadata": {
        "colab": {
          "base_uri": "https://localhost:8080/"
        },
        "id": "n1o13hwuv4DE",
        "outputId": "69d463cb-29ac-4eef-dd33-67766941e2d0"
      },
      "execution_count": null,
      "outputs": [
        {
          "output_type": "stream",
          "name": "stdout",
          "text": [
            "Insira o nome do integrante: maria\n",
            "O nome que você quer analisar é:  MARIA\n",
            "MARIA não está no grupo\n"
          ]
        }
      ]
    },
    {
      "cell_type": "markdown",
      "source": [
        "Começar um novo textoo\n",
        "\n",
        "> Bloco com recuofgdfg\n",
        "\n",
        "\n",
        "\n",
        "*   Item da lista\n",
        "\n",
        "*   Item da lista\n",
        "\n",
        "*   Item da lista\n",
        "\n",
        "---\n",
        "\n",
        "\n",
        "\n",
        "---\n",
        "\n",
        "\n",
        "*   Item da lista\n",
        "\n",
        "\n",
        "*   Item da lista\n",
        "\n",
        "\n",
        "*   Item da lista\n",
        "\n",
        "\n",
        "\n"
      ],
      "metadata": {
        "id": "9y8_ORdo33Cf"
      }
    },
    {
      "cell_type": "code",
      "execution_count": null,
      "metadata": {
        "colab": {
          "base_uri": "https://localhost:8080/"
        },
        "id": "8NvwdOTc2C5s",
        "outputId": "63fb6169-5c3c-4728-d1b0-355186b9ca12"
      },
      "outputs": [
        {
          "output_type": "execute_result",
          "data": {
            "text/plain": [
              "4"
            ]
          },
          "metadata": {},
          "execution_count": 1
        }
      ],
      "source": [
        "2+2"
      ]
    },
    {
      "cell_type": "code",
      "source": [
        "print('Olá, mundo!')    #função imprimir sempre vem esse tal ola mundo na primeira aula\n",
        "print()\n",
        "print('Eu tenho', 5, 'cachorros')"
      ],
      "metadata": {
        "colab": {
          "base_uri": "https://localhost:8080/"
        },
        "id": "LDzXRtNDoWP8",
        "outputId": "887abc6e-7219-4d2f-b514-e3129ed91640"
      },
      "execution_count": null,
      "outputs": [
        {
          "output_type": "stream",
          "name": "stdout",
          "text": [
            "Olá, mundo!\n",
            "\n",
            "Eu tenho 5 cachorros\n"
          ]
        }
      ]
    }
  ]
}